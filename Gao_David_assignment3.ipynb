version https://git-lfs.github.com/spec/v1
oid sha256:f2dc7f39aabc98c4b094246de74ff2ff94833e496611bd6e8fac34f1d32774a1
size 22615157
