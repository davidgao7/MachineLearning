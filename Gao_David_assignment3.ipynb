version https://git-lfs.github.com/spec/v1
oid sha256:daf0ee7e36c6825342c5e1bee0c2987ce47c56051192f0f6832568cf8892ccb9
size 12345521
