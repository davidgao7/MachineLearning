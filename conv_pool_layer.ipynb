version https://git-lfs.github.com/spec/v1
oid sha256:54d786ef04979cc091ce47021ea9b0e0272e77a6f202a1decf8f0b02c50435fa
size 72292
