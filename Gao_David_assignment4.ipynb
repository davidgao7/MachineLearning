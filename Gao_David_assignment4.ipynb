version https://git-lfs.github.com/spec/v1
oid sha256:466f08214e54f4fa538503e0477f3780abd7b6b1282758d0679f45c9ef8e8325
size 319589
