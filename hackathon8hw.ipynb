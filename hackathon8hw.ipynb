version https://git-lfs.github.com/spec/v1
oid sha256:ccb4d35869150e4611333ede99db06534f732e9e49ff4edafcf97394961f3946
size 110520
