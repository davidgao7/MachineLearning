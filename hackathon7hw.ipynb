version https://git-lfs.github.com/spec/v1
oid sha256:90bb604b70f62aaf46fab46eb7a54eab6b69b097176cde41f1c8b866674cf395
size 344710
