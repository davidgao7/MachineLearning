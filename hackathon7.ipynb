version https://git-lfs.github.com/spec/v1
oid sha256:35f983fc1537aa7a28da8c3e01e221fac6cf8ac0fd9042cf0a0391f16a53a540
size 45404
