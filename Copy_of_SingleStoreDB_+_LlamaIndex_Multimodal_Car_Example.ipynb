version https://git-lfs.github.com/spec/v1
oid sha256:a8974514592b59d3dc42f9c5c20c404b8e40067b058046ec627357192de26399
size 1682380
