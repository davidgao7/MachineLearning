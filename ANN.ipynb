version https://git-lfs.github.com/spec/v1
oid sha256:951687e6a350d522cf8e5f380774329ea3793c389d59f231e1285cb1f4e10438
size 8001
