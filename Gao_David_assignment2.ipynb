version https://git-lfs.github.com/spec/v1
oid sha256:8038def6df7de29684203cdf2a0fa71e926916e467d09e1fbfe715ddeb1986be
size 11314
